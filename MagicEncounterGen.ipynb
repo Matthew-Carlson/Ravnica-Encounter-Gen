{
 "cells": [
  {
   "cell_type": "code",
   "execution_count": 1,
   "metadata": {},
   "outputs": [],
   "source": [
    "import json\n",
    "import random\n",
    "from collections import defaultdict"
   ]
  },
  {
   "cell_type": "code",
   "execution_count": 2,
   "metadata": {},
   "outputs": [],
   "source": [
    "rarity_freq = {'mythic':1, 'rare':1, 'uncommon':2, 'common':3}\n",
    "target_sets = set(['rav', 'gpt', 'dis', 'rtr', 'gtc', 'dgm', 'grn', 'rna'])"
   ]
  },
  {
   "cell_type": "code",
   "execution_count": 3,
   "metadata": {},
   "outputs": [],
   "source": [
    "with open('data/scryfall-default-cards.json','r', encoding='utf-8') as f:\n",
    "    data_list = json.load(f)\n",
    "\n",
    "# Data from https://archive.scryfall.com/json/scryfall-default-cards.json"
   ]
  },
  {
   "cell_type": "code",
   "execution_count": 4,
   "metadata": {},
   "outputs": [
    {
     "name": "stdout",
     "output_type": "stream",
     "text": [
      "mythic : 36\n",
      "uncommon : 252\n",
      "common : 313\n",
      "rare : 197\n"
     ]
    }
   ],
   "source": [
    "rarity_count = defaultdict(int)\n",
    "pull_list = []\n",
    "for card in data_list:\n",
    "    if card['set'] in target_sets and 'Creature' in card['type_line']:\n",
    "        rarity_count[card['rarity']] += 1\n",
    "        for i in range(rarity_freq[card['rarity']]):\n",
    "            pull_list.append(card.copy())\n",
    "\n",
    "for rarity in rarity_count:\n",
    "    print(f'{rarity} : {rarity_count[rarity]}')"
   ]
  },
  {
   "cell_type": "code",
   "execution_count": 5,
   "metadata": {},
   "outputs": [
    {
     "name": "stdout",
     "output_type": "stream",
     "text": [
      "https://scryfall.com/card/rav/233/sunhome-enforcer?utm_source=api\n",
      "https://scryfall.com/card/dgm/38/rubblebelt-maaka?utm_source=api\n",
      "https://scryfall.com/card/gtc/208/wojek-halberdiers?utm_source=api\n",
      "https://scryfall.com/card/rav/157/civic-wayfinder?utm_source=api\n",
      "https://scryfall.com/card/grn/97/electrostatic-field?utm_source=api\n",
      "https://scryfall.com/card/gpt/113/gelectrode?utm_source=api\n",
      "https://scryfall.com/card/gtc/130/rust-scarab?utm_source=api\n",
      "https://scryfall.com/card/grn/25/skyline-scout?utm_source=api\n",
      "https://scryfall.com/card/rav/57/lore-broker?utm_source=api\n",
      "https://scryfall.com/card/rtr/124/gatecreeper-vine?utm_source=api\n",
      "https://scryfall.com/card/rtr/224/vassal-soul?utm_source=api\n",
      "https://scryfall.com/card/rav/243/boros-recruit?utm_source=api\n",
      "https://scryfall.com/card/rav/211/grave-shell-scarab?utm_source=api\n",
      "https://scryfall.com/card/grn/17/intrusive-packbeast?utm_source=api\n",
      "https://scryfall.com/card/rav/34/veteran-armorer?utm_source=api\n"
     ]
    }
   ],
   "source": [
    "for _ in range(15):\n",
    "    print(random.choice(pull_list)['scryfall_uri'])"
   ]
  },
  {
   "cell_type": "code",
   "execution_count": null,
   "metadata": {},
   "outputs": [],
   "source": []
  }
 ],
 "metadata": {
  "kernelspec": {
   "display_name": "Python 3",
   "language": "python",
   "name": "python3"
  },
  "language_info": {
   "codemirror_mode": {
    "name": "ipython",
    "version": 3
   },
   "file_extension": ".py",
   "mimetype": "text/x-python",
   "name": "python",
   "nbconvert_exporter": "python",
   "pygments_lexer": "ipython3",
   "version": "3.6.5"
  }
 },
 "nbformat": 4,
 "nbformat_minor": 2
}
